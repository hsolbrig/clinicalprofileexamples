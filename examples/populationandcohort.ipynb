{
 "cells": [
  {
   "cell_type": "markdown",
   "metadata": {},
   "source": [
    "# Populations\n",
    "[binder](https://mybinder.org/v2/gh/hsolbrig/clinicalprofileexamples/master?filepath=examples%2Fpopulationandcohort.ipynb)\n",
    "\n",
    "## \"abstract\" population definition\n",
    "Asthma population is an abstract definition "
   ]
  },
  {
   "cell_type": "code",
   "execution_count": 23,
   "metadata": {
    "pycharm": {
     "is_executing": true,
     "name": "#%%\n"
    }
   },
   "outputs": [],
   "source": [
    "\n",
    "import requests\n",
    "from jsonasobj import loads, as_json, JsonObj\n",
    "from typing import Optional, Callable, List, Tuple\n",
    "\n",
    "def read_group(id_: str) -> Optional[JsonObj]:\n",
    "    \"\"\" Read the group referenced by id \"\"\"\n",
    "    resp = requests.get(f\"http://hapi.clinicalprofiles.org/baseR4/Group/{id_}?_pretty=true&_format=_json\")\n",
    "    if resp.status_code == 200:\n",
    "        return loads(resp.text)\n",
    "    else:\n",
    "        print(resp.reason)\n",
    "        return None\n"
   ]
  },
  {
   "cell_type": "code",
   "execution_count": 24,
   "metadata": {},
   "outputs": [
    {
     "name": "stdout",
     "output_type": "stream",
     "text": [
      "{\n",
      "   \"resourceType\": \"Group\",\n",
      "   \"id\": \"asthma-population\",\n",
      "   \"meta\": {\n",
      "      \"versionId\": \"2\",\n",
      "      \"lastUpdated\": \"2019-06-21T00:07:01.542+00:00\"\n",
      "   },\n",
      "   \"text\": {\n",
      "      \"status\": \"additional\",\n",
      "      \"div\": \"<div xmlns=\\\"http://www.w3.org/1999/xhtml\\\">\\n    <p>Patients having a diagnosis of asthma recorded on the problem list or as an encounter diagnosis.</p>\\n    <p>This is an abstract profile that can be applied to different base populations</p>\\n</div>\"\n",
      "   },\n",
      "   \"identifier\": [\n",
      "      {\n",
      "         \"system\": \"http://ncats.org/clinicalprofile/\",\n",
      "         \"value\": \"asthma-population\"\n",
      "      }\n",
      "   ],\n",
      "   \"type\": \"person\",\n",
      "   \"actual\": false,\n",
      "   \"name\": \"Patients diagnosed with asthma\",\n",
      "   \"characteristic\": [\n",
      "      {\n",
      "         \"code\": {\n",
      "            \"text\": \"encounter diagnosis\"\n",
      "         },\n",
      "         \"valueCodeableConcept\": {\n",
      "            \"coding\": [\n",
      "               {\n",
      "                  \"system\": \"http://snomed.info/sct\",\n",
      "                  \"code\": \"195967001\",\n",
      "                  \"display\": \"Asthma\"\n",
      "               },\n",
      "               {\n",
      "                  \"system\": \"http://human-phenotype-ontology.org/\",\n",
      "                  \"code\": \"002099\",\n",
      "                  \"display\": \"Asthma\"\n",
      "               }\n",
      "            ],\n",
      "            \"text\": \"asthma\"\n",
      "         }\n",
      "      }\n",
      "   ]\n",
      "}\n"
     ]
    }
   ],
   "source": [
    "asthma_pop = read_group(\"asthma-population\")\n",
    "print(as_json(asthma_pop))"
   ]
  },
  {
   "cell_type": "markdown",
   "metadata": {
    "pycharm": {
     "name": "#%%\n"
    }
   },
   "source": [
    "A population has `actual` set to false and does not define a quantity"
   ]
  },
  {
   "cell_type": "code",
   "execution_count": 25,
   "metadata": {},
   "outputs": [
    {
     "name": "stdout",
     "output_type": "stream",
     "text": [
      "Actual = False\n"
     ]
    }
   ],
   "source": [
    "print(f\"Actual = {asthma_pop.actual}\")"
   ]
  },
  {
   "cell_type": "markdown",
   "metadata": {},
   "source": [
    "The `text` and `name` are intended to provide a human readable description \n",
    "(we need to make sure we can include attribution for this)"
   ]
  },
  {
   "cell_type": "code",
   "execution_count": 26,
   "metadata": {},
   "outputs": [
    {
     "data": {
      "text/html": [
       "<div xmlns=\"http://www.w3.org/1999/xhtml\">\n",
       "    <p>Patients having a diagnosis of asthma recorded on the problem list or as an encounter diagnosis.</p>\n",
       "    <p>This is an abstract profile that can be applied to different base populations</p>\n",
       "</div>"
      ],
      "text/plain": [
       "<IPython.core.display.HTML object>"
      ]
     },
     "metadata": {},
     "output_type": "display_data"
    },
    {
     "name": "stdout",
     "output_type": "stream",
     "text": [
      "- - - - - - - - - - - - - - - - - - - - \n",
      "Patients diagnosed with asthma\n"
     ]
    }
   ],
   "source": [
    "from IPython.core.display import display, HTML\n",
    "display(HTML(asthma_pop.text.div))\n",
    "print('- ' * 20)\n",
    "print(asthma_pop.name)"
   ]
  },
  {
   "cell_type": "markdown",
   "metadata": {},
   "source": [
    "Populations can also be defined in a (semi-) formal fashion.  Note that we still need to locate a code for \"encounter diagnosis\"..."
   ]
  },
  {
   "cell_type": "code",
   "execution_count": 27,
   "metadata": {},
   "outputs": [
    {
     "name": "stdout",
     "output_type": "stream",
     "text": [
      "{\n",
      "   \"code\": {\n",
      "      \"text\": \"encounter diagnosis\"\n",
      "   },\n",
      "   \"valueCodeableConcept\": {\n",
      "      \"coding\": [\n",
      "         {\n",
      "            \"system\": \"http://snomed.info/sct\",\n",
      "            \"code\": \"195967001\",\n",
      "            \"display\": \"Asthma\"\n",
      "         },\n",
      "         {\n",
      "            \"system\": \"http://human-phenotype-ontology.org/\",\n",
      "            \"code\": \"002099\",\n",
      "            \"display\": \"Asthma\"\n",
      "         }\n",
      "      ],\n",
      "      \"text\": \"asthma\"\n",
      "   }\n",
      "}\n"
     ]
    }
   ],
   "source": [
    "print(as_json(asthma_pop.characteristic[0]))"
   ]
  },
  {
   "cell_type": "markdown",
   "metadata": {},
   "source": [
    "## \"actual\" populations\n",
    "There can be multiple actual populations that \"realize\" an abstract definition:"
   ]
  },
  {
   "cell_type": "code",
   "execution_count": 28,
   "metadata": {},
   "outputs": [
    {
     "name": "stdout",
     "output_type": "stream",
     "text": [
      "{\n",
      "   \"resourceType\": \"Group\",\n",
      "   \"id\": \"asthma\",\n",
      "   \"meta\": {\n",
      "      \"versionId\": \"1\",\n",
      "      \"lastUpdated\": \"2019-06-21T00:06:43.604+00:00\"\n",
      "   },\n",
      "   \"text\": {\n",
      "      \"status\": \"additional\",\n",
      "      \"div\": \"<div xmlns=\\\"http://www.w3.org/1999/xhtml\\\">\\n    <p>All patients seen as either outpatients or inpatients at Johns Hopkins Hospital, JHCP, and Bayview between \\n3/1/2016 and 3/1/2018 having a diagnosis of asthma recorded on the problem list of as an encounter diagnosis</p>\\n</div>\"\n",
      "   },\n",
      "   \"identifier\": [\n",
      "      {\n",
      "         \"system\": \"http://ncats.org/clinicalprofile/\",\n",
      "         \"value\": \"asthma\"\n",
      "      }\n",
      "   ],\n",
      "   \"type\": \"person\",\n",
      "   \"actual\": true,\n",
      "   \"name\": \"JHU Patients diagnosed with asthma 3/1/2016 to 3/1/2018\",\n",
      "   \"quantity\": 61449,\n",
      "   \"characteristic\": [\n",
      "      {\n",
      "         \"code\": {\n",
      "            \"text\": \"encounter diagnosis\"\n",
      "         },\n",
      "         \"valueCodeableConcept\": {\n",
      "            \"coding\": [\n",
      "               {\n",
      "                  \"system\": \"http://hl7.org/fhir/sid/icd-9-cm\",\n",
      "                  \"code\": \"493\",\n",
      "                  \"display\": \"Asthma\"\n",
      "               },\n",
      "               {\n",
      "                  \"system\": \"http://hl7.org/fhir/sid/icd-10-cm\",\n",
      "                  \"code\": \"J45\",\n",
      "                  \"display\": \"Asthma\"\n",
      "               }\n",
      "            ],\n",
      "            \"text\": \"asthma\"\n",
      "         }\n",
      "      }\n",
      "   ]\n",
      "}\n"
     ]
    }
   ],
   "source": [
    "jhu_asthma = read_group(\"asthma\")\n",
    "print(as_json(jhu_asthma))"
   ]
  },
  {
   "cell_type": "markdown",
   "metadata": {},
   "source": [
    "In the above case, `actual` is True and we include the set of codes that were used to retrieve the data."
   ]
  },
  {
   "cell_type": "markdown",
   "metadata": {},
   "source": [
    "## Cohort definitions\n",
    "Cohorts are partitioned into \"abstract\" and \"actual\" as well."
   ]
  },
  {
   "cell_type": "code",
   "execution_count": 29,
   "metadata": {},
   "outputs": [],
   "source": [
    "def filtr_group(filtr: Callable[[JsonObj], bool]) -> List[Tuple[str, str]]:\n",
    "    \"\"\" Query groups using filtr \"\"\"\n",
    "    url = \"http://hapi.clinicalprofiles.org/baseR4/Group?_format=json&_pretty=true\"\n",
    "    rval = []\n",
    "    while url:\n",
    "        resp = requests.get(url)\n",
    "        url = None\n",
    "        if resp.status_code == 200:\n",
    "            bundle = loads(resp.text)\n",
    "            for r in bundle.link:\n",
    "                if r.relation == 'next':\n",
    "                    url = r.url\n",
    "                    break\n",
    "            for e in bundle.entry:\n",
    "                if filtr(e.resource):\n",
    "                    rval.append((e.resource.id, e.resource.name))\n",
    "    return rval"
   ]
  },
  {
   "cell_type": "code",
   "execution_count": 34,
   "metadata": {},
   "outputs": [
    {
     "name": "stdout",
     "output_type": "stream",
     "text": [
      "{\n",
      "   \"resourceType\": \"Group\",\n",
      "   \"id\": \"asthma-Female-ANY-45-64-population\",\n",
      "   \"meta\": {\n",
      "      \"versionId\": \"1\",\n",
      "      \"lastUpdated\": \"2019-06-21T00:07:17.846+00:00\"\n",
      "   },\n",
      "   \"active\": true,\n",
      "   \"type\": \"person\",\n",
      "   \"actual\": false,\n",
      "   \"name\": \"asthma-Female-ANY-45-64-population\",\n",
      "   \"characteristic\": [\n",
      "      {\n",
      "         \"code\": {\n",
      "            \"text\": \"base population\"\n",
      "         },\n",
      "         \"valueReference\": {\n",
      "            \"reference\": \"Group/asthma-population\",\n",
      "            \"type\": \"Group\",\n",
      "            \"display\": \"patients with asthma\"\n",
      "         }\n",
      "      },\n",
      "      {\n",
      "         \"code\": {\n",
      "            \"text\": \"patient age\"\n",
      "         },\n",
      "         \"valueRange\": {\n",
      "            \"low\": {\n",
      "               \"value\": 45.0,\n",
      "               \"unit\": \"years\"\n",
      "            },\n",
      "            \"high\": {\n",
      "               \"value\": 64.0,\n",
      "               \"unit\": \"years\"\n",
      "            }\n",
      "         }\n",
      "      },\n",
      "      {\n",
      "         \"code\": {\n",
      "            \"text\": \"patient gender\"\n",
      "         },\n",
      "         \"valueCodeableConcept\": {\n",
      "            \"coding\": [\n",
      "               {\n",
      "                  \"system\": \"http://build.fhir.org/codesystem-administrative-gender.html\",\n",
      "                  \"code\": \"female\"\n",
      "               }\n",
      "            ]\n",
      "         }\n",
      "      }\n",
      "   ]\n",
      "}\n"
     ]
    }
   ],
   "source": [
    "female_asthma_45_64 = read_group('asthma-Female-ANY-45-64-population')\n",
    "print(as_json(female_asthma_45_64))"
   ]
  },
  {
   "cell_type": "code",
   "execution_count": 35,
   "metadata": {},
   "outputs": [
    {
     "name": "stdout",
     "output_type": "stream",
     "text": [
      "{\n",
      "   \"resourceType\": \"Group\",\n",
      "   \"id\": \"asthma-Female-ANY-45-64.\",\n",
      "   \"meta\": {\n",
      "      \"versionId\": \"1\",\n",
      "      \"lastUpdated\": \"2019-06-21T00:07:18.902+00:00\"\n",
      "   },\n",
      "   \"active\": true,\n",
      "   \"type\": \"person\",\n",
      "   \"actual\": true,\n",
      "   \"name\": \"asthma-Female-ANY-45-64.\",\n",
      "   \"managingEntity\": {\n",
      "      \"reference\": \"Organization/JHU\",\n",
      "      \"type\": \"Organization\"\n",
      "   },\n",
      "   \"characteristic\": [\n",
      "      {\n",
      "         \"code\": {\n",
      "            \"text\": \"base population\"\n",
      "         },\n",
      "         \"valueReference\": {\n",
      "            \"reference\": \"Group/asthma\",\n",
      "            \"type\": \"Group\",\n",
      "            \"display\": \"patients with asthma\"\n",
      "         }\n",
      "      },\n",
      "      {\n",
      "         \"code\": {\n",
      "            \"text\": \"patient age\"\n",
      "         },\n",
      "         \"valueRange\": {\n",
      "            \"low\": {\n",
      "               \"value\": 45.0,\n",
      "               \"unit\": \"years\"\n",
      "            },\n",
      "            \"high\": {\n",
      "               \"value\": 64.0,\n",
      "               \"unit\": \"years\"\n",
      "            }\n",
      "         }\n",
      "      },\n",
      "      {\n",
      "         \"code\": {\n",
      "            \"text\": \"patient gender\"\n",
      "         },\n",
      "         \"valueCodeableConcept\": {\n",
      "            \"coding\": [\n",
      "               {\n",
      "                  \"system\": \"http://build.fhir.org/codesystem-administrative-gender.html\",\n",
      "                  \"code\": \"female\"\n",
      "               }\n",
      "            ]\n",
      "         }\n",
      "      }\n",
      "   ]\n",
      "}\n"
     ]
    }
   ],
   "source": [
    "female_asthma_45_64 = read_group('asthma-Female-ANY-45-64.')\n",
    "print(as_json(female_asthma_45_64))"
   ]
  },
  {
   "cell_type": "code",
   "execution_count": 57,
   "metadata": {},
   "outputs": [
    {
     "data": {
      "text/html": [
       "<h1>Realization of asthma populations</h1>"
      ],
      "text/plain": [
       "<IPython.core.display.HTML object>"
      ]
     },
     "metadata": {},
     "output_type": "display_data"
    },
    {
     "name": "stdout",
     "output_type": "stream",
     "text": [
      "asthma-ANY-ANY-18-44.\n",
      "asthma-ANY-ANY-45-64.\n",
      "asthma-ANY-ANY-65-74.\n",
      "asthma-ANY-ANY-75-200.\n",
      "asthma-ANY-ANY-ANY\n",
      "asthma-ANY-Black-or-African-American-18-44.\n",
      "asthma-ANY-Black-or-African-American-45-64.\n",
      "asthma-ANY-Black-or-African-American-65-74.\n",
      "asthma-ANY-Black-or-African-American-75-200.\n",
      "asthma-ANY-Black-or-African-American-ANY\n",
      "asthma-ANY-Other-18-44.\n",
      "asthma-ANY-Other-45-64.\n",
      "asthma-ANY-Other-65-74.\n",
      "asthma-ANY-Other-75-200.\n",
      "asthma-ANY-Other-ANY\n",
      "asthma-ANY-White-or-Caucasian-18-44.\n",
      "asthma-ANY-White-or-Caucasian-45-64.\n",
      "asthma-ANY-White-or-Caucasian-65-74.\n",
      "asthma-ANY-White-or-Caucasian-75-200.\n",
      "asthma-ANY-White-or-Caucasian-ANY\n",
      "asthma-Female-ANY-18-44.\n",
      "asthma-Female-ANY-45-64.\n",
      "asthma-Female-ANY-65-74.\n",
      "asthma-Female-ANY-75-200.\n",
      "asthma-Female-ANY-ANY\n",
      "asthma-Female-Black-or-African-American-18-44.\n",
      "asthma-Female-Black-or-African-American-45-64.\n",
      "asthma-Female-Black-or-African-American-65-74.\n",
      "asthma-Female-Black-or-African-American-75-200.\n",
      "asthma-Female-Black-or-African-American-ANY\n",
      "asthma-Female-Other-18-44.\n",
      "asthma-Female-Other-45-64.\n",
      "asthma-Female-Other-65-74.\n",
      "asthma-Female-Other-75-200.\n",
      "asthma-Female-Other-ANY\n",
      "asthma-Female-White-or-Caucasian-18-44.\n",
      "asthma-Female-White-or-Caucasian-45-64.\n",
      "asthma-Female-White-or-Caucasian-65-74.\n",
      "asthma-Female-White-or-Caucasian-75-200.\n",
      "asthma-Female-White-or-Caucasian-ANY\n",
      "asthma-Male-ANY-18-44.\n",
      "asthma-Male-ANY-45-64.\n",
      "asthma-Male-ANY-65-74.\n",
      "asthma-Male-ANY-75-200.\n",
      "asthma-Male-ANY-ANY\n",
      "asthma-Male-Black-or-African-American-18-44.\n",
      "asthma-Male-Black-or-African-American-45-64.\n",
      "asthma-Male-Black-or-African-American-65-74.\n",
      "asthma-Male-Black-or-African-American-75-200.\n",
      "asthma-Male-Black-or-African-American-ANY\n",
      "asthma-Male-Other-18-44.\n",
      "asthma-Male-Other-45-64.\n",
      "asthma-Male-Other-65-74.\n",
      "asthma-Male-Other-75-200.\n",
      "asthma-Male-Other-ANY\n",
      "asthma-Male-White-or-Caucasian-18-44.\n",
      "asthma-Male-White-or-Caucasian-45-64.\n",
      "asthma-Male-White-or-Caucasian-65-74.\n",
      "asthma-Male-White-or-Caucasian-75-200.\n",
      "asthma-Male-White-or-Caucasian-ANY\n"
     ]
    }
   ],
   "source": [
    "def realization_of(abstract_id: str) -> List[Tuple[str, str]]:\n",
    "    def test_base(group: JsonObj) -> bool:\n",
    "        if getattr(group, 'characteristic', None):\n",
    "            for c in group.characteristic:\n",
    "                if c.code.text == \"base population\" and c.valueReference.reference == f\"Group/{abstract_id}\":\n",
    "                    return True\n",
    "        return False\n",
    "    return test_base\n",
    "\n",
    "realizations = filtr_group(realization_of('asthma'))\n",
    "display(HTML(\"<h1>Realization of asthma populations</h1>\"))\n",
    "print('\\n'.join(e[0] for e in sorted(realizations, key=lambda e: e[0])))\n",
    "   "
   ]
  },
  {
   "cell_type": "code",
   "execution_count": null,
   "metadata": {},
   "outputs": [],
   "source": []
  }
 ],
 "metadata": {
  "kernelspec": {
   "display_name": "Python 3",
   "language": "python",
   "name": "python3"
  },
  "language_info": {
   "codemirror_mode": {
    "name": "ipython",
    "version": 3
   },
   "file_extension": ".py",
   "mimetype": "text/x-python",
   "name": "python",
   "nbconvert_exporter": "python",
   "pygments_lexer": "ipython3",
   "version": "3.7.3"
  },
  "pycharm": {
   "stem_cell": {
    "cell_type": "raw",
    "metadata": {
     "collapsed": false
    },
    "source": []
   }
  }
 },
 "nbformat": 4,
 "nbformat_minor": 1
}
